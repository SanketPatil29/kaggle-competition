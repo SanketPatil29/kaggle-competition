{
 "cells": [
  {
   "cell_type": "code",
   "execution_count": 1,
   "id": "232719f0",
   "metadata": {
    "_cell_guid": "b1076dfc-b9ad-4769-8c92-a6c4dae69d19",
    "_uuid": "8f2839f25d086af736a60e9eeb907d3b93b6e0e5",
    "execution": {
     "iopub.execute_input": "2023-12-12T04:46:46.512232Z",
     "iopub.status.busy": "2023-12-12T04:46:46.511578Z",
     "iopub.status.idle": "2023-12-12T04:46:46.945435Z",
     "shell.execute_reply": "2023-12-12T04:46:46.944152Z"
    },
    "papermill": {
     "duration": 0.443743,
     "end_time": "2023-12-12T04:46:46.948657",
     "exception": false,
     "start_time": "2023-12-12T04:46:46.504914",
     "status": "completed"
    },
    "tags": []
   },
   "outputs": [
    {
     "name": "stdout",
     "output_type": "stream",
     "text": [
      "/kaggle/input/to-read-or-not-to-read/sample_submission.csv\n",
      "/kaggle/input/to-read-or-not-to-read/train.csv\n",
      "/kaggle/input/to-read-or-not-to-read/test.csv\n"
     ]
    }
   ],
   "source": [
    "# This Python 3 environment comes with many helpful analytics libraries installed\n",
    "# It is defined by the kaggle/python Docker image: https://github.com/kaggle/docker-python\n",
    "# For example, here's several helpful packages to load\n",
    "\n",
    "import numpy as np # linear algebra\n",
    "import pandas as pd # data processing, CSV file I/O (e.g. pd.read_csv)\n",
    "\n",
    "# Input data files are available in the read-only \"../input/\" directory\n",
    "# For example, running this (by clicking run or pressing Shift+Enter) will list all files under the input directory\n",
    "\n",
    "import os\n",
    "for dirname, _, filenames in os.walk('/kaggle/input'):\n",
    "    for filename in filenames:\n",
    "        print(os.path.join(dirname, filename))\n",
    "\n",
    "# You can write up to 20GB to the current directory (/kaggle/working/) that gets preserved as output when you create a version using \"Save & Run All\" \n",
    "# You can also write temporary files to /kaggle/temp/, but they won't be saved outside of the current session"
   ]
  },
  {
   "cell_type": "code",
   "execution_count": 2,
   "id": "d3dc52ed",
   "metadata": {
    "execution": {
     "iopub.execute_input": "2023-12-12T04:46:46.960602Z",
     "iopub.status.busy": "2023-12-12T04:46:46.959846Z",
     "iopub.status.idle": "2023-12-12T04:47:04.515799Z",
     "shell.execute_reply": "2023-12-12T04:47:04.514947Z"
    },
    "papermill": {
     "duration": 17.564472,
     "end_time": "2023-12-12T04:47:04.518462",
     "exception": false,
     "start_time": "2023-12-12T04:46:46.953990",
     "status": "completed"
    },
    "tags": []
   },
   "outputs": [
    {
     "name": "stdout",
     "output_type": "stream",
     "text": [
      "/kaggle/working\n"
     ]
    }
   ],
   "source": [
    "print(os.getcwd() )\n",
    "df=pd.read_csv(\"/kaggle/input/to-read-or-not-to-read/train.csv\")"
   ]
  },
  {
   "cell_type": "code",
   "execution_count": null,
   "id": "56685d55",
   "metadata": {
    "execution": {
     "iopub.execute_input": "2023-12-12T04:33:01.183490Z",
     "iopub.status.busy": "2023-12-12T04:33:01.183054Z",
     "iopub.status.idle": "2023-12-12T04:33:01.189653Z",
     "shell.execute_reply": "2023-12-12T04:33:01.188343Z",
     "shell.execute_reply.started": "2023-12-12T04:33:01.183454Z"
    },
    "papermill": {
     "duration": 0.004367,
     "end_time": "2023-12-12T04:47:04.527852",
     "exception": false,
     "start_time": "2023-12-12T04:47:04.523485",
     "status": "completed"
    },
    "tags": []
   },
   "outputs": [],
   "source": []
  },
  {
   "cell_type": "code",
   "execution_count": 3,
   "id": "21411e4b",
   "metadata": {
    "execution": {
     "iopub.execute_input": "2023-12-12T04:47:04.538716Z",
     "iopub.status.busy": "2023-12-12T04:47:04.538283Z",
     "iopub.status.idle": "2023-12-12T04:47:05.823407Z",
     "shell.execute_reply": "2023-12-12T04:47:05.822241Z"
    },
    "papermill": {
     "duration": 1.293816,
     "end_time": "2023-12-12T04:47:05.826230",
     "exception": false,
     "start_time": "2023-12-12T04:47:04.532414",
     "status": "completed"
    },
    "tags": []
   },
   "outputs": [],
   "source": [
    "import re\n",
    "\n",
    "# Define a regex pattern to match URLs\n",
    "url_pattern = re.compile(r'https?://\\S+')\n",
    "\n",
    "# Define a function to remove URLs from text\n",
    "def remove_urls(text):\n",
    "    return url_pattern.sub('', text)\n",
    "\n",
    "# Apply the function to the 'text' column and create a new column 'clean_text'\n",
    "df['review_text_preprocess'] = df['review_text'].apply(remove_urls)"
   ]
  },
  {
   "cell_type": "code",
   "execution_count": 4,
   "id": "c0f60dde",
   "metadata": {
    "execution": {
     "iopub.execute_input": "2023-12-12T04:47:05.837616Z",
     "iopub.status.busy": "2023-12-12T04:47:05.837210Z",
     "iopub.status.idle": "2023-12-12T04:47:20.073567Z",
     "shell.execute_reply": "2023-12-12T04:47:20.072388Z"
    },
    "papermill": {
     "duration": 14.245642,
     "end_time": "2023-12-12T04:47:20.076734",
     "exception": false,
     "start_time": "2023-12-12T04:47:05.831092",
     "status": "completed"
    },
    "tags": []
   },
   "outputs": [],
   "source": [
    "#remove digit\n",
    "df['review_text_preprocess'] = df['review_text_preprocess'].replace(to_replace=r'\\d', value='', regex=True)"
   ]
  },
  {
   "cell_type": "code",
   "execution_count": 5,
   "id": "5784661b",
   "metadata": {
    "execution": {
     "iopub.execute_input": "2023-12-12T04:47:20.088316Z",
     "iopub.status.busy": "2023-12-12T04:47:20.087882Z",
     "iopub.status.idle": "2023-12-12T04:47:21.382931Z",
     "shell.execute_reply": "2023-12-12T04:47:21.381748Z"
    },
    "papermill": {
     "duration": 1.304415,
     "end_time": "2023-12-12T04:47:21.385823",
     "exception": false,
     "start_time": "2023-12-12T04:47:20.081408",
     "status": "completed"
    },
    "tags": []
   },
   "outputs": [],
   "source": [
    "#lower case\n",
    "df['review_text_preprocess']= df['review_text_preprocess'].apply(lambda x: x.lower()) "
   ]
  },
  {
   "cell_type": "code",
   "execution_count": 6,
   "id": "602b77a3",
   "metadata": {
    "execution": {
     "iopub.execute_input": "2023-12-12T04:47:21.397718Z",
     "iopub.status.busy": "2023-12-12T04:47:21.397354Z",
     "iopub.status.idle": "2023-12-12T04:48:53.805435Z",
     "shell.execute_reply": "2023-12-12T04:48:53.804184Z"
    },
    "papermill": {
     "duration": 92.42291,
     "end_time": "2023-12-12T04:48:53.813911",
     "exception": false,
     "start_time": "2023-12-12T04:47:21.391001",
     "status": "completed"
    },
    "tags": []
   },
   "outputs": [
    {
     "name": "stdout",
     "output_type": "stream",
     "text": [
      "Collecting contractions\r\n",
      "  Downloading contractions-0.1.73-py2.py3-none-any.whl (8.7 kB)\r\n",
      "Collecting textsearch>=0.0.21 (from contractions)\r\n",
      "  Downloading textsearch-0.0.24-py2.py3-none-any.whl (7.6 kB)\r\n",
      "Collecting anyascii (from textsearch>=0.0.21->contractions)\r\n",
      "  Downloading anyascii-0.3.2-py3-none-any.whl (289 kB)\r\n",
      "\u001b[2K     \u001b[90m━━━━━━━━━━━━━━━━━━━━━━━━━━━━━━━━━━━━━━━\u001b[0m \u001b[32m289.9/289.9 kB\u001b[0m \u001b[31m5.4 MB/s\u001b[0m eta \u001b[36m0:00:00\u001b[0m\r\n",
      "\u001b[?25hCollecting pyahocorasick (from textsearch>=0.0.21->contractions)\r\n",
      "  Downloading pyahocorasick-2.0.0-cp310-cp310-manylinux_2_5_x86_64.manylinux1_x86_64.manylinux_2_12_x86_64.manylinux2010_x86_64.whl (110 kB)\r\n",
      "\u001b[2K     \u001b[90m━━━━━━━━━━━━━━━━━━━━━━━━━━━━━━━━━━━━━━\u001b[0m \u001b[32m110.8/110.8 kB\u001b[0m \u001b[31m12.2 MB/s\u001b[0m eta \u001b[36m0:00:00\u001b[0m\r\n",
      "\u001b[?25hInstalling collected packages: pyahocorasick, anyascii, textsearch, contractions\r\n",
      "Successfully installed anyascii-0.3.2 contractions-0.1.73 pyahocorasick-2.0.0 textsearch-0.0.24\r\n"
     ]
    },
    {
     "data": {
      "text/plain": [
       "<bound method NDFrame.head of                                  user_id   book_id  \\\n",
       "0       d9a0f14b836e2634b89a6a7d4d9aa184  23308084   \n",
       "1       3af7e1cda1d80d6a6d73e06eab301368  23310751   \n",
       "2       dd669721e136c1be47d739b14fa23d20    210252   \n",
       "3       aec624fd1ad0034f2553b7dc55ee1cd0    472392   \n",
       "4       d67aef0988e1814a819259eb11c92788  17675462   \n",
       "...                                  ...       ...   \n",
       "629995  34d07fb9e04bfbbb17371435223b120e    296182   \n",
       "629996  c3d7ca2c133140d684ab4d958d5e4ee9   5776788   \n",
       "629997  60982541be85a0611e9634b4f63d0cb0      3648   \n",
       "629998  b43eaf1760e1b11bc224815a3f3c48a3  13507212   \n",
       "629999  2c2822bfcdeb65ca48db551d4cfd16ef  23857998   \n",
       "\n",
       "                               review_id  \\\n",
       "0       7bde8725cbb9ceb697c72c12262dff53   \n",
       "1       a9aa8356ef1ca470c98712e17005517b   \n",
       "2       8739baeb543858142605442041d79524   \n",
       "3       1791472bb94c9733802303ecf34d9c53   \n",
       "4       d98212782db1271607a94c5836ef6189   \n",
       "...                                  ...   \n",
       "629995  3de0c7af9700e937b488e129ca3c9cc9   \n",
       "629996  96a1196bfce7fc2d4d4e589d990badc9   \n",
       "629997  a857718ca7e70b8c0ffc5ead14512fb8   \n",
       "629998  393045562fb081cf0a6975a2f6b91908   \n",
       "629999  941af42d5d9c694bbbbf8b4f8297b8c7   \n",
       "\n",
       "                                              review_text  \\\n",
       "0       My only complaint is this isn't a trilogy...I ...   \n",
       "1       i read this 2 days ago.... and remember nothin...   \n",
       "2       I wasn't a fan of the first Monster Blood, and...   \n",
       "3       Love Theo so much. The interaction between she...   \n",
       "4       a good book, just had to get through the middl...   \n",
       "...                                                   ...   \n",
       "629995  **edit 11/26/13 \\n My advice regarding the Vor...   \n",
       "629996  This is not a book I would likely have picked ...   \n",
       "629997  This book's summary boasts a spectacular story...   \n",
       "629998  Excellent sequel to Wolf Hall- covering a shor...   \n",
       "629999  Such a beautifully, complicated, different sto...   \n",
       "\n",
       "                            date_added                    date_updated  \\\n",
       "0       Thu Jul 23 22:27:34 -0700 2015  Wed May 04 20:04:40 -0700 2016   \n",
       "1       Thu Oct 13 19:33:58 -0700 2016  Thu Oct 13 19:34:28 -0700 2016   \n",
       "2       Thu Feb 27 01:44:54 -0800 2014  Sun Oct 18 20:46:53 -0700 2015   \n",
       "3       Sun Aug 28 08:19:18 -0700 2016  Sat Sep 03 17:42:00 -0700 2016   \n",
       "4       Mon Jan 11 07:20:47 -0800 2016  Mon Mar 14 07:30:27 -0700 2016   \n",
       "...                                ...                             ...   \n",
       "629995  Sat Jul 06 23:27:10 -0700 2013  Thu Jul 10 23:35:49 -0700 2014   \n",
       "629996  Tue Oct 19 17:38:21 -0700 2010  Wed Dec 22 09:46:33 -0800 2010   \n",
       "629997  Thu Jun 08 22:25:07 -0700 2017  Thu Jun 08 22:28:54 -0700 2017   \n",
       "629998  Sun Jan 08 08:38:38 -0800 2017  Sun Jan 15 06:16:15 -0800 2017   \n",
       "629999  Fri Apr 17 09:59:49 -0700 2015  Fri Apr 17 13:40:44 -0700 2015   \n",
       "\n",
       "                               read_at                      started_at  \\\n",
       "0       Wed May 04 00:00:00 -0700 2016  Mon Apr 25 00:00:00 -0700 2016   \n",
       "1       Mon Oct 10 00:00:00 -0700 2016                             NaN   \n",
       "2       Thu Feb 27 00:00:00 -0800 2014                             NaN   \n",
       "3       Fri Sep 02 03:12:59 -0700 2016  Sun Aug 28 00:00:00 -0700 2016   \n",
       "4       Sun Mar 13 00:00:00 -0800 2016  Mon Jan 11 00:00:00 -0800 2016   \n",
       "...                                ...                             ...   \n",
       "629995                             NaN                             NaN   \n",
       "629996  Tue Dec 21 00:00:00 -0800 2010  Sat Dec 18 00:00:00 -0800 2010   \n",
       "629997  Fri Jun 09 07:16:37 -0700 2017                             NaN   \n",
       "629998                             NaN                             NaN   \n",
       "629999  Fri Apr 17 14:47:26 -0700 2015  Fri Apr 17 00:00:00 -0700 2015   \n",
       "\n",
       "        n_votes  n_comments  rating  \\\n",
       "0             1           1       5   \n",
       "1             3           0       2   \n",
       "2             0           0       2   \n",
       "3             0           0       4   \n",
       "4             0           0       4   \n",
       "...         ...         ...     ...   \n",
       "629995        8           3       4   \n",
       "629996        0           0       3   \n",
       "629997       13           0       2   \n",
       "629998        0           0       5   \n",
       "629999        7           0       4   \n",
       "\n",
       "                                   review_text_preprocess  \n",
       "0       my only complaint is this is not a trilogy...i...  \n",
       "1       i read this  days ago.... and remember nothing...  \n",
       "2       i was not a fan of the first monster blood, an...  \n",
       "3       love theo so much. the interaction between she...  \n",
       "4       a good book, just had to get through the middl...  \n",
       "...                                                   ...  \n",
       "629995  **edit // \\n my advice regarding the vorkosiga...  \n",
       "629996  this is not a book i would likely have picked ...  \n",
       "629997  this book's summary boasts a spectacular story...  \n",
       "629998  excellent sequel to wolf hall- covering a shor...  \n",
       "629999  such a beautifully, complicated, different sto...  \n",
       "\n",
       "[630000 rows x 12 columns]>"
      ]
     },
     "execution_count": 6,
     "metadata": {},
     "output_type": "execute_result"
    }
   ],
   "source": [
    "#remove contractions\n",
    "#{\"ain't\": \"are not\",\"'s\":\" is\",\"aren't\": \"are not\"}\n",
    "!pip install contractions\n",
    "import contractions\n",
    "\n",
    "def expand_contractions(text):\n",
    "    # Use the contractions library to expand contractions\n",
    "    expanded_text = contractions.fix(text)\n",
    "    return expanded_text\n",
    "df['review_text_preprocess'] = df['review_text_preprocess'].apply(lambda x: expand_contractions(x))\n",
    "df.head"
   ]
  },
  {
   "cell_type": "code",
   "execution_count": 7,
   "id": "c609e74e",
   "metadata": {
    "execution": {
     "iopub.execute_input": "2023-12-12T04:48:53.827838Z",
     "iopub.status.busy": "2023-12-12T04:48:53.827439Z",
     "iopub.status.idle": "2023-12-12T04:50:45.294640Z",
     "shell.execute_reply": "2023-12-12T04:50:45.293430Z"
    },
    "papermill": {
     "duration": 111.477602,
     "end_time": "2023-12-12T04:50:45.297460",
     "exception": false,
     "start_time": "2023-12-12T04:48:53.819858",
     "status": "completed"
    },
    "tags": []
   },
   "outputs": [],
   "source": [
    "#remove punctuation\n",
    "#library that contains punctuation\n",
    "import string\n",
    "string.punctuation\n",
    "#defining the function to remove punctuation\n",
    "def remove_punctuation(text):\n",
    "    punctuationfree=\"\".join([i for i in text if i not in string.punctuation])\n",
    "    return punctuationfree\n",
    "#storing the puntuation free text\n",
    "df['review_text_preprocess']= df['review_text_preprocess'].apply(lambda x:remove_punctuation(x))"
   ]
  },
  {
   "cell_type": "code",
   "execution_count": 8,
   "id": "3858dc24",
   "metadata": {
    "execution": {
     "iopub.execute_input": "2023-12-12T04:50:45.313138Z",
     "iopub.status.busy": "2023-12-12T04:50:45.312185Z",
     "iopub.status.idle": "2023-12-12T09:36:40.864393Z",
     "shell.execute_reply": "2023-12-12T09:36:40.862622Z"
    },
    "papermill": {
     "duration": 17155.56509,
     "end_time": "2023-12-12T09:36:40.869041",
     "exception": false,
     "start_time": "2023-12-12T04:50:45.303951",
     "status": "completed"
    },
    "tags": []
   },
   "outputs": [],
   "source": [
    "from nltk.corpus import stopwords\n",
    "def remove_stopwords(text):\n",
    "    new_text = []\n",
    "    \n",
    "    for word in text.split():\n",
    "        if word in stopwords.words('english'):\n",
    "            new_text.append('')\n",
    "        else:\n",
    "            new_text.append(word)\n",
    "    x = new_text[:]\n",
    "    new_text.clear()\n",
    "    return \" \".join(x)\n",
    "\n",
    "df['review_text_preprocess'] = df[\"review_text_preprocess\"].apply(remove_stopwords)"
   ]
  },
  {
   "cell_type": "code",
   "execution_count": 9,
   "id": "60e82157",
   "metadata": {
    "execution": {
     "iopub.execute_input": "2023-12-12T09:36:40.894371Z",
     "iopub.status.busy": "2023-12-12T09:36:40.893818Z",
     "iopub.status.idle": "2023-12-12T15:33:54.171646Z",
     "shell.execute_reply": "2023-12-12T15:33:54.170196Z"
    },
    "papermill": {
     "duration": 21433.298354,
     "end_time": "2023-12-12T15:33:54.176206",
     "exception": false,
     "start_time": "2023-12-12T09:36:40.877852",
     "status": "completed"
    },
    "tags": []
   },
   "outputs": [],
   "source": [
    "import spacy\n",
    "import pandas as pd\n",
    "\n",
    "# Load the English language model\n",
    "nlp = spacy.load(\"en_core_web_sm\")\n",
    "\n",
    "def lemmatize_text(text):\n",
    "    # Process the text using SpaCy\n",
    "    doc = nlp(text)\n",
    "\n",
    "    # Extract tokens and lemmatize each token\n",
    "    lemmas = [token.lemma_ for token in doc]\n",
    "\n",
    "    return lemmas\n",
    "\n",
    "# Apply the function to the 'review_text' column\n",
    "df['review_text_preprocess'] = df['review_text_preprocess'].apply(lemmatize_text)"
   ]
  },
  {
   "cell_type": "code",
   "execution_count": 10,
   "id": "38824f42",
   "metadata": {
    "execution": {
     "iopub.execute_input": "2023-12-12T15:33:54.195255Z",
     "iopub.status.busy": "2023-12-12T15:33:54.194580Z",
     "iopub.status.idle": "2023-12-12T15:34:01.155738Z",
     "shell.execute_reply": "2023-12-12T15:34:01.154704Z"
    },
    "papermill": {
     "duration": 6.976555,
     "end_time": "2023-12-12T15:34:01.161792",
     "exception": false,
     "start_time": "2023-12-12T15:33:54.185237",
     "status": "completed"
    },
    "tags": []
   },
   "outputs": [],
   "source": [
    "df['review_text_preprocess'] = df['review_text_preprocess'].apply(lambda lemmas: ' '.join(lemmas))"
   ]
  },
  {
   "cell_type": "code",
   "execution_count": 11,
   "id": "beaa8da0",
   "metadata": {
    "execution": {
     "iopub.execute_input": "2023-12-12T15:34:01.207588Z",
     "iopub.status.busy": "2023-12-12T15:34:01.206715Z",
     "iopub.status.idle": "2023-12-12T15:35:10.697973Z",
     "shell.execute_reply": "2023-12-12T15:35:10.696799Z"
    },
    "papermill": {
     "duration": 69.531455,
     "end_time": "2023-12-12T15:35:10.700932",
     "exception": false,
     "start_time": "2023-12-12T15:34:01.169477",
     "status": "completed"
    },
    "tags": []
   },
   "outputs": [],
   "source": [
    "df.to_csv(\"Train_Preprocess.csv\")"
   ]
  }
 ],
 "metadata": {
  "kaggle": {
   "accelerator": "none",
   "dataSources": [
    {
     "databundleVersionId": 6956711,
     "sourceId": 63679,
     "sourceType": "competition"
    }
   ],
   "dockerImageVersionId": 30615,
   "isGpuEnabled": false,
   "isInternetEnabled": true,
   "language": "python",
   "sourceType": "notebook"
  },
  "kernelspec": {
   "display_name": "Python 3",
   "language": "python",
   "name": "python3"
  },
  "language_info": {
   "codemirror_mode": {
    "name": "ipython",
    "version": 3
   },
   "file_extension": ".py",
   "mimetype": "text/x-python",
   "name": "python",
   "nbconvert_exporter": "python",
   "pygments_lexer": "ipython3",
   "version": "3.10.12"
  },
  "papermill": {
   "default_parameters": {},
   "duration": 38910.624725,
   "end_time": "2023-12-12T15:35:13.666679",
   "environment_variables": {},
   "exception": null,
   "input_path": "__notebook__.ipynb",
   "output_path": "__notebook__.ipynb",
   "parameters": {},
   "start_time": "2023-12-12T04:46:43.041954",
   "version": "2.4.0"
  }
 },
 "nbformat": 4,
 "nbformat_minor": 5
}
